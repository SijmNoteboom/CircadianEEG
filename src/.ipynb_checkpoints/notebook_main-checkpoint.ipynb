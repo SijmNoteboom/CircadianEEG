{
 "cells": [
  {
   "cell_type": "code",
   "execution_count": 259,
   "id": "8638401d",
   "metadata": {},
   "outputs": [
    {
     "name": "stdout",
     "output_type": "stream",
     "text": [
      "The autoreload extension is already loaded. To reload it, use:\n",
      "  %reload_ext autoreload\n"
     ]
    }
   ],
   "source": [
    "%load_ext autoreload\n",
    "%autoreload 2"
   ]
  },
  {
   "cell_type": "code",
   "execution_count": 260,
   "id": "ec2dd0cb",
   "metadata": {},
   "outputs": [],
   "source": [
    "import yasa\n",
    "import pandas as pd\n",
    "import mne"
   ]
  },
  {
   "cell_type": "code",
   "execution_count": 261,
   "id": "4f719867",
   "metadata": {},
   "outputs": [],
   "source": [
    "# Load data from EDF file\n",
    "p = Path.cwd().parent / \"data\"\n",
    "\n",
    "edf_files = sorted(p.glob('*/*.edf'))\n",
    "\n",
    "d1 = edf_files[0]\n",
    "pt1 = d1.parent.name"
   ]
  },
  {
   "cell_type": "markdown",
   "id": "46b2281f",
   "metadata": {},
   "source": [
    "### load raw data"
   ]
  },
  {
   "cell_type": "code",
   "execution_count": 275,
   "id": "c13c34f0",
   "metadata": {},
   "outputs": [
    {
     "name": "stdout",
     "output_type": "stream",
     "text": [
      "Extracting EDF parameters from C:\\Users\\sijmn\\Documents\\allProjectsCode\\circadian_eeg\\data\\N1\\Cortisleep1_2023-02-08T19-24-23[+0100].edf...\n",
      "EDF file detected\n",
      "Setting channel info structure...\n",
      "Creating raw.info structure...\n",
      "Reading 0 ... 11215749  =      0.000 ... 44862.996 secs...\n"
     ]
    }
   ],
   "source": [
    "raw = mne.io.read_raw_edf(d1, preload=True)"
   ]
  },
  {
   "cell_type": "code",
   "execution_count": 276,
   "id": "221bd41d",
   "metadata": {},
   "outputs": [
    {
     "name": "stdout",
     "output_type": "stream",
     "text": [
      "Filtering raw data in 1 contiguous segment\n",
      "Setting up band-pass filter from 0.3 - 45 Hz\n",
      "\n",
      "FIR filter parameters\n",
      "---------------------\n",
      "Designing a one-pass, zero-phase, non-causal bandpass filter:\n",
      "- Windowed time-domain design (firwin) method\n",
      "- Hamming window with 0.0194 passband ripple and 53 dB stopband attenuation\n",
      "- Lower passband edge: 0.30\n",
      "- Lower transition bandwidth: 0.30 Hz (-6 dB cutoff frequency: 0.15 Hz)\n",
      "- Upper passband edge: 45.00 Hz\n",
      "- Upper transition bandwidth: 11.25 Hz (-6 dB cutoff frequency: 50.62 Hz)\n",
      "- Filter length: 2751 samples (11.004 s)\n",
      "\n"
     ]
    },
    {
     "name": "stderr",
     "output_type": "stream",
     "text": [
      "[Parallel(n_jobs=1)]: Using backend SequentialBackend with 1 concurrent workers.\n",
      "[Parallel(n_jobs=1)]: Done   1 out of   1 | elapsed:    0.1s remaining:    0.0s\n",
      "[Parallel(n_jobs=1)]: Done   2 out of   2 | elapsed:    0.4s remaining:    0.0s\n",
      "[Parallel(n_jobs=1)]: Done   3 out of   3 | elapsed:    0.6s remaining:    0.0s\n",
      "[Parallel(n_jobs=1)]: Done   4 out of   4 | elapsed:    0.9s remaining:    0.0s\n",
      "[Parallel(n_jobs=1)]: Done  10 out of  10 | elapsed:    2.2s finished\n"
     ]
    },
    {
     "data": {
      "text/html": [
       "<details open>\n",
       "    <summary><strong>General</strong></summary>\n",
       "    <table class=\"table table-hover table-striped table-sm table-responsive small\">\n",
       "        <tr>\n",
       "            <th>Measurement date</th>\n",
       "            \n",
       "            <td>February 08, 2023  19:24:23 GMT</td>\n",
       "            \n",
       "        </tr>\n",
       "        <tr>\n",
       "            <th>Experimenter</th>\n",
       "            \n",
       "            <td>Unknown</td>\n",
       "            \n",
       "        </tr>\n",
       "        <tr>\n",
       "            <th>Participant</th>\n",
       "            \n",
       "            \n",
       "            <td>fb114e56-7c1d-42ca-beaa-3b42f682e80d</td>\n",
       "            \n",
       "            \n",
       "        </tr>\n",
       "    </table>\n",
       "    </details>\n",
       "    <details open>\n",
       "        <summary><strong>Channels</strong></summary>\n",
       "        <table class=\"table table-hover table-striped table-sm table-responsive small\">\n",
       "            <tr>\n",
       "                <th>Digitized points</th>\n",
       "                \n",
       "                <td>Not available</td>\n",
       "                \n",
       "            </tr>\n",
       "            <tr>\n",
       "                <th>Good channels</th>\n",
       "                <td>10 EEG</td>\n",
       "            </tr>\n",
       "            <tr>\n",
       "                <th>Bad channels</th>\n",
       "                <td>None</td>\n",
       "            </tr>\n",
       "            <tr>\n",
       "                <th>EOG channels</th>\n",
       "                <td>Not available</td>\n",
       "            </tr>\n",
       "            <tr>\n",
       "                <th>ECG channels</th>\n",
       "                <td>Not available</td>\n",
       "            </tr>\n",
       "        </table>\n",
       "        </details>\n",
       "        <details open>\n",
       "            <summary><strong>Data</strong></summary>\n",
       "            <table class=\"table table-hover table-striped table-sm table-responsive small\">\n",
       "                \n",
       "                <tr>\n",
       "                    <th>Sampling frequency</th>\n",
       "                    <td>250.00 Hz</td>\n",
       "                </tr>\n",
       "                \n",
       "                \n",
       "                <tr>\n",
       "                    <th>Highpass</th>\n",
       "                    <td>0.30 Hz</td>\n",
       "                </tr>\n",
       "                \n",
       "                \n",
       "                <tr>\n",
       "                    <th>Lowpass</th>\n",
       "                    <td>45.00 Hz</td>\n",
       "                </tr>\n",
       "                \n",
       "                \n",
       "                \n",
       "                <tr>\n",
       "                    <th>Filenames</th>\n",
       "                    <td>Cortisleep1_2023-02-08T19-24-23[+0100].edf</td>\n",
       "                </tr>\n",
       "                \n",
       "                \n",
       "                <tr>\n",
       "                    <th>Duration</th>\n",
       "                    <td>12:27:43 (HH:MM:SS)</td>\n",
       "                </tr>\n",
       "                \n",
       "            </table>\n",
       "            </details>"
      ],
      "text/plain": [
       "<RawEDF | Cortisleep1_2023-02-08T19-24-23[+0100].edf, 10 x 11215750 (44863.0 s), ~855.7 MB, data loaded>"
      ]
     },
     "execution_count": 276,
     "metadata": {},
     "output_type": "execute_result"
    }
   ],
   "source": [
    "data = raw.get_data()\n",
    "fs = raw.info['sfreq']\n",
    "d = raw.get_data()\n",
    "# raw.ch_names\n",
    "raw.filter(0.3, 45)"
   ]
  },
  {
   "cell_type": "markdown",
   "id": "ddc81cb8",
   "metadata": {},
   "source": [
    "### plot hypnogram"
   ]
  },
  {
   "cell_type": "code",
   "execution_count": 270,
   "id": "ee8971e4",
   "metadata": {},
   "outputs": [],
   "source": [
    "# Load hypnogram data\n",
    "hypno_file = sorted(d1.parent.glob(\"*hypnogram.txt\"))[0]\n",
    "\n",
    "with open(hypno_file) as fp:\n",
    "    hd = fp.readlines()\n",
    "\n",
    "start_index = 0\n",
    "for i, line in enumerate(hd):\n",
    "    if line.startswith('Sleep Stage'):\n",
    "        start_index = i + 1\n",
    "        break\n",
    "\n",
    "# Extract the column headers and rows\n",
    "columns = hd[start_index - 1].strip().split('\\t')\n",
    "rows = [line.strip().split('\\t') for line in hd[start_index:] if line.strip()]\n",
    "\n",
    "hypno = pd.DataFrame(rows, columns=columns)\n",
    "\n",
    "# Strip any extra spaces from column names\n",
    "hypno.columns = hypno.columns.str.strip()\n",
    "\n",
    "# Convert 'Sleep Stage' column to a categorical type\n",
    "hypno['Sleep Stage'] = hypno['Sleep Stage'].astype('category')\n",
    "\n",
    "# Define the mapping for sleep stages to string values\n",
    "stage_mapping = {\n",
    "    'SLEEP-S0': 'WAKE',\n",
    "    'SLEEP-S1': 'N1',\n",
    "    'SLEEP-S2': 'N2',\n",
    "    'SLEEP-S3': 'N3',\n",
    "    'SLEEP-REM': 'REM'\n",
    "}\n",
    "\n",
    "\n",
    "# Convert 'Sleep Stage' column to a categorical type\n",
    "hypno['Sleep Stage'] = hypno['Sleep Stage'].astype('category')\n",
    "\n",
    "# Use rename_categories to change the categories\n",
    "hypno['Sleep Stage'] = hypno['Sleep Stage'].cat.rename_categories(stage_mapping)\n",
    "\n",
    "# Convert the 'Time [hh:mm:ss]' column to a datetime format\n",
    "hypno['Time [hh:mm:ss]'] = pd.to_datetime(hypno['Time [hh:mm:ss]'], format='%H:%M:%S')\n",
    "\n",
    "# Set the 'Time [hh:mm:ss]' column as the index\n",
    "hypno.set_index('Time [hh:mm:ss]', inplace=True)\n",
    "\n",
    "# Ensure the DataFrame is sorted by the index\n",
    "hypno.sort_index(inplace=True)\n",
    "\n",
    "# Extract the 'Sleep Stage' column as a pandas Series\n",
    "hypnogram_data = hypno['Sleep Stage']\n",
    "\n",
    "# Create a Hypnogram object with the data\n",
    "hypnogram = yasa.Hypnogram(hypnogram_data)\n",
    "\n",
    "hypnogram.plot_hypnogram()\n",
    "plt.show()"
   ]
  },
  {
   "cell_type": "code",
   "execution_count": 319,
   "id": "0c706404",
   "metadata": {},
   "outputs": [
    {
     "data": {
      "text/plain": [
       "{'TIB': 747.5,\n",
       " 'SPT': 713.5,\n",
       " 'WASO': 604.0,\n",
       " 'TST': 109.5,\n",
       " 'N1': 31.5,\n",
       " 'N2': 64.5,\n",
       " 'N3': 0.0,\n",
       " 'REM': 13.5,\n",
       " 'NREM': 96.0,\n",
       " 'SOL': 34.0,\n",
       " 'Lat_N1': 34.0,\n",
       " 'Lat_N2': 39.5,\n",
       " 'Lat_N3': nan,\n",
       " 'Lat_REM': 45.0,\n",
       " '%N1': 28.767123287671232,\n",
       " '%N2': 58.9041095890411,\n",
       " '%N3': 0.0,\n",
       " '%REM': 12.32876712328767,\n",
       " '%NREM': 87.67123287671232,\n",
       " 'SE': 14.648829431438127,\n",
       " 'SME': 15.3468815697267}"
      ]
     },
     "execution_count": 319,
     "metadata": {},
     "output_type": "execute_result"
    }
   ],
   "source": [
    "stage_mapping = {\n",
    "    'SLEEP-S0': 0,\n",
    "    'SLEEP-S1': 1,\n",
    "    'SLEEP-S2': 2,\n",
    "    'SLEEP-S3': 3,\n",
    "    'SLEEP-REM': 4\n",
    "}\n",
    "\n",
    "hypno['Event'] = hypno['Event'].astype('category')\n",
    "hypno['Event'] = hypno['Event'].cat.rename_categories(stage_mapping)\n",
    "\n",
    "yasa.sleep_statistics(hypno['Event'].values, sf_hyp=1/30)"
   ]
  }
 ],
 "metadata": {
  "kernelspec": {
   "display_name": "mydre",
   "language": "python",
   "name": "mydre"
  },
  "language_info": {
   "codemirror_mode": {
    "name": "ipython",
    "version": 3
   },
   "file_extension": ".py",
   "mimetype": "text/x-python",
   "name": "python",
   "nbconvert_exporter": "python",
   "pygments_lexer": "ipython3",
   "version": "3.9.17"
  }
 },
 "nbformat": 4,
 "nbformat_minor": 5
}
